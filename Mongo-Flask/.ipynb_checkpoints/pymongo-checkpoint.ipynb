{
 "cells": [
  {
   "cell_type": "markdown",
   "id": "994b98cf",
   "metadata": {},
   "source": [
    "## The following entries in the terminal were used to establish the database:\n",
    "**mongoimport --type csv -d schoolShooting -c incident --headerline --drop clean_incident.csv**<br>\n",
    "**mongoimport --type csv -d schoolShooting -c victim --headerline --drop clean_victim.csv**<br>\n",
    "**mongoimport --type csv -d schoolShooting -c shooter --headerline --drop clean_shooter.csv**<br>\n",
    "**mongoimport --type csv -d schoolShooting -c weapon --headerline --drop clean_weapon.csv**<br>"
   ]
  },
  {
   "cell_type": "code",
   "execution_count": 1,
   "id": "1e61a5d1",
   "metadata": {},
   "outputs": [],
   "source": [
    "from pymongo import MongoClient\n",
    "from pprint import pprint"
   ]
  },
  {
   "cell_type": "code",
   "execution_count": 2,
   "id": "75ed78d4",
   "metadata": {},
   "outputs": [],
   "source": [
    "mongo = MongoClient(port=27017)"
   ]
  },
  {
   "cell_type": "code",
   "execution_count": 3,
   "id": "f17380f7",
   "metadata": {},
   "outputs": [
    {
     "name": "stdout",
     "output_type": "stream",
     "text": [
      "['admin', 'autosaurus', 'classDB', 'config', 'epa', 'fruits_db', 'local', 'met', 'petsitly_marketing', 'schoolShooting', 'uk_food']\n"
     ]
    }
   ],
   "source": [
    "print(mongo.list_database_names())"
   ]
  },
  {
   "cell_type": "code",
   "execution_count": 5,
   "id": "d6da7aac",
   "metadata": {},
   "outputs": [
    {
     "name": "stdout",
     "output_type": "stream",
     "text": [
      "['weapon', 'shooter', 'incident', 'victim']\n"
     ]
    }
   ],
   "source": [
    "db = mongo['schoolShooting']\n",
    "print(db.list_collection_names())"
   ]
  },
  {
   "cell_type": "code",
   "execution_count": 6,
   "id": "850f0f6c",
   "metadata": {},
   "outputs": [
    {
     "name": "stdout",
     "output_type": "stream",
     "text": [
      "{'Incident_ID': '19700105DCHIW',\n",
      " '_id': ObjectId('650db72d21165806eb8366a8'),\n",
      " 'weapontype': 'Handgun'}\n"
     ]
    }
   ],
   "source": [
    "pprint(db.weapon.find_one())"
   ]
  },
  {
   "cell_type": "code",
   "execution_count": 7,
   "id": "bb970d61",
   "metadata": {},
   "outputs": [
    {
     "name": "stdout",
     "output_type": "stream",
     "text": [
      "{'City': 'New Orleans',\n",
      " 'Date': '2022-05-31',\n",
      " 'Incident_ID': '20220531LAMON',\n",
      " 'Media_Attention': 'National',\n",
      " 'School': 'Morris Jeff High School',\n",
      " 'School_Level': 'High',\n",
      " 'State': 'LA',\n",
      " 'Targets': 'Both',\n",
      " '_id': ObjectId('650db6b2806a605ba5390c2c')}\n"
     ]
    }
   ],
   "source": [
    "pprint(db.incident.find_one())"
   ]
  },
  {
   "cell_type": "code",
   "execution_count": 8,
   "id": "c3bb8f05",
   "metadata": {},
   "outputs": [
    {
     "name": "stdout",
     "output_type": "stream",
     "text": [
      "{'Incident_ID': '19700105DCHIW',\n",
      " '_id': ObjectId('650db71a483107851f6d1148'),\n",
      " 'age_cat': 'Teen',\n",
      " 'schoolaffiliation': 'Student',\n",
      " 'shooterdied': 'No'}\n"
     ]
    }
   ],
   "source": [
    "pprint(db.shooter.find_one())"
   ]
  },
  {
   "cell_type": "code",
   "execution_count": 9,
   "id": "5824649d",
   "metadata": {},
   "outputs": [
    {
     "name": "stdout",
     "output_type": "stream",
     "text": [
      "{'Age': 'Teen',\n",
      " 'Incident_ID': '19700105DCSOW',\n",
      " 'Injury': 'Wounded',\n",
      " '_id': ObjectId('650db6f6f8d7fd4b67276d2e')}\n"
     ]
    }
   ],
   "source": [
    "pprint(db.victim.find_one())"
   ]
  },
  {
   "cell_type": "code",
   "execution_count": null,
   "id": "fbef0e9c",
   "metadata": {},
   "outputs": [],
   "source": []
  }
 ],
 "metadata": {
  "kernelspec": {
   "display_name": "Python 3 (ipykernel)",
   "language": "python",
   "name": "python3"
  },
  "language_info": {
   "codemirror_mode": {
    "name": "ipython",
    "version": 3
   },
   "file_extension": ".py",
   "mimetype": "text/x-python",
   "name": "python",
   "nbconvert_exporter": "python",
   "pygments_lexer": "ipython3",
   "version": "3.10.11"
  }
 },
 "nbformat": 4,
 "nbformat_minor": 5
}
