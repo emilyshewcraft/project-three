{
 "cells": [
  {
   "cell_type": "code",
   "execution_count": 1,
   "id": "5ce19016-4390-4019-8ecb-78d640349ca9",
   "metadata": {
    "tags": []
   },
   "outputs": [],
   "source": [
    "import pandas as pd"
   ]
  },
  {
   "cell_type": "code",
   "execution_count": 2,
   "id": "122a0955-51ff-40d9-a684-bcb42ce88dcc",
   "metadata": {
    "tags": []
   },
   "outputs": [],
   "source": [
    "weapons_df = pd.read_csv(\"../Datasets/WEAPON.csv\", sep=\",\")"
   ]
  },
  {
   "cell_type": "code",
   "execution_count": 3,
   "id": "2cac3aca-c675-4001-b6ef-628d6e387dcb",
   "metadata": {
    "tags": []
   },
   "outputs": [
    {
     "data": {
      "text/html": [
       "<div>\n",
       "<style scoped>\n",
       "    .dataframe tbody tr th:only-of-type {\n",
       "        vertical-align: middle;\n",
       "    }\n",
       "\n",
       "    .dataframe tbody tr th {\n",
       "        vertical-align: top;\n",
       "    }\n",
       "\n",
       "    .dataframe thead th {\n",
       "        text-align: right;\n",
       "    }\n",
       "</style>\n",
       "<table border=\"1\" class=\"dataframe\">\n",
       "  <thead>\n",
       "    <tr style=\"text-align: right;\">\n",
       "      <th></th>\n",
       "      <th>incidentid</th>\n",
       "      <th>weaponcaliber</th>\n",
       "      <th>weapondetails</th>\n",
       "      <th>weapontype</th>\n",
       "    </tr>\n",
       "  </thead>\n",
       "  <tbody>\n",
       "    <tr>\n",
       "      <th>0</th>\n",
       "      <td>19700105DCHIW</td>\n",
       "      <td>Unknown</td>\n",
       "      <td>NaN</td>\n",
       "      <td>Handgun</td>\n",
       "    </tr>\n",
       "    <tr>\n",
       "      <th>1</th>\n",
       "      <td>19700105DCSOW</td>\n",
       "      <td>.22 caliber</td>\n",
       "      <td>NaN</td>\n",
       "      <td>Handgun</td>\n",
       "    </tr>\n",
       "    <tr>\n",
       "      <th>2</th>\n",
       "      <td>19700105DCUNW</td>\n",
       "      <td>Unknown</td>\n",
       "      <td>NaN</td>\n",
       "      <td>Handgun</td>\n",
       "    </tr>\n",
       "    <tr>\n",
       "      <th>3</th>\n",
       "      <td>19700206OHJOC</td>\n",
       "      <td>Unknown</td>\n",
       "      <td>NaN</td>\n",
       "      <td>Handgun</td>\n",
       "    </tr>\n",
       "    <tr>\n",
       "      <th>4</th>\n",
       "      <td>19700323CADAL</td>\n",
       "      <td>Unknown</td>\n",
       "      <td>NaN</td>\n",
       "      <td>Handgun</td>\n",
       "    </tr>\n",
       "  </tbody>\n",
       "</table>\n",
       "</div>"
      ],
      "text/plain": [
       "      incidentid weaponcaliber weapondetails weapontype\n",
       "0  19700105DCHIW       Unknown           NaN    Handgun\n",
       "1  19700105DCSOW   .22 caliber           NaN    Handgun\n",
       "2  19700105DCUNW       Unknown           NaN    Handgun\n",
       "3  19700206OHJOC       Unknown           NaN    Handgun\n",
       "4  19700323CADAL       Unknown           NaN    Handgun"
      ]
     },
     "execution_count": 3,
     "metadata": {},
     "output_type": "execute_result"
    }
   ],
   "source": [
    "weapons_df.head()"
   ]
  },
  {
   "cell_type": "code",
   "execution_count": 4,
   "id": "9584dab5-a0ce-4b7f-b902-b7465baef96a",
   "metadata": {
    "tags": []
   },
   "outputs": [
    {
     "data": {
      "text/html": [
       "<div>\n",
       "<style scoped>\n",
       "    .dataframe tbody tr th:only-of-type {\n",
       "        vertical-align: middle;\n",
       "    }\n",
       "\n",
       "    .dataframe tbody tr th {\n",
       "        vertical-align: top;\n",
       "    }\n",
       "\n",
       "    .dataframe thead th {\n",
       "        text-align: right;\n",
       "    }\n",
       "</style>\n",
       "<table border=\"1\" class=\"dataframe\">\n",
       "  <thead>\n",
       "    <tr style=\"text-align: right;\">\n",
       "      <th></th>\n",
       "      <th>Incident_ID</th>\n",
       "      <th>weapontype</th>\n",
       "    </tr>\n",
       "  </thead>\n",
       "  <tbody>\n",
       "    <tr>\n",
       "      <th>0</th>\n",
       "      <td>19700105DCHIW</td>\n",
       "      <td>Handgun</td>\n",
       "    </tr>\n",
       "    <tr>\n",
       "      <th>1</th>\n",
       "      <td>19700105DCSOW</td>\n",
       "      <td>Handgun</td>\n",
       "    </tr>\n",
       "    <tr>\n",
       "      <th>2</th>\n",
       "      <td>19700105DCUNW</td>\n",
       "      <td>Handgun</td>\n",
       "    </tr>\n",
       "    <tr>\n",
       "      <th>3</th>\n",
       "      <td>19700206OHJOC</td>\n",
       "      <td>Handgun</td>\n",
       "    </tr>\n",
       "    <tr>\n",
       "      <th>4</th>\n",
       "      <td>19700323CADAL</td>\n",
       "      <td>Handgun</td>\n",
       "    </tr>\n",
       "  </tbody>\n",
       "</table>\n",
       "</div>"
      ],
      "text/plain": [
       "     Incident_ID weapontype\n",
       "0  19700105DCHIW    Handgun\n",
       "1  19700105DCSOW    Handgun\n",
       "2  19700105DCUNW    Handgun\n",
       "3  19700206OHJOC    Handgun\n",
       "4  19700323CADAL    Handgun"
      ]
     },
     "execution_count": 4,
     "metadata": {},
     "output_type": "execute_result"
    }
   ],
   "source": [
    "weapons_df.rename(columns={'incidentid':'Incident_ID'},inplace=True)\n",
    "weapons_df = weapons_df[[\"Incident_ID\", \"weapontype\"]]\n",
    "weapons_df.head()"
   ]
  },
  {
   "cell_type": "code",
   "execution_count": 5,
   "id": "ed05e3d4",
   "metadata": {
    "tags": []
   },
   "outputs": [
    {
     "data": {
      "text/html": [
       "<div>\n",
       "<style scoped>\n",
       "    .dataframe tbody tr th:only-of-type {\n",
       "        vertical-align: middle;\n",
       "    }\n",
       "\n",
       "    .dataframe tbody tr th {\n",
       "        vertical-align: top;\n",
       "    }\n",
       "\n",
       "    .dataframe thead th {\n",
       "        text-align: right;\n",
       "    }\n",
       "</style>\n",
       "<table border=\"1\" class=\"dataframe\">\n",
       "  <thead>\n",
       "    <tr style=\"text-align: right;\">\n",
       "      <th></th>\n",
       "      <th>Incident_ID</th>\n",
       "      <th>weapontype</th>\n",
       "    </tr>\n",
       "  </thead>\n",
       "  <tbody>\n",
       "    <tr>\n",
       "      <th>0</th>\n",
       "      <td>19700105DCHIW</td>\n",
       "      <td>Handgun</td>\n",
       "    </tr>\n",
       "    <tr>\n",
       "      <th>1</th>\n",
       "      <td>19700105DCSOW</td>\n",
       "      <td>Handgun</td>\n",
       "    </tr>\n",
       "    <tr>\n",
       "      <th>2</th>\n",
       "      <td>19700105DCUNW</td>\n",
       "      <td>Handgun</td>\n",
       "    </tr>\n",
       "    <tr>\n",
       "      <th>3</th>\n",
       "      <td>19700206OHJOC</td>\n",
       "      <td>Handgun</td>\n",
       "    </tr>\n",
       "    <tr>\n",
       "      <th>4</th>\n",
       "      <td>19700323CADAL</td>\n",
       "      <td>Handgun</td>\n",
       "    </tr>\n",
       "  </tbody>\n",
       "</table>\n",
       "</div>"
      ],
      "text/plain": [
       "     Incident_ID weapontype\n",
       "0  19700105DCHIW    Handgun\n",
       "1  19700105DCSOW    Handgun\n",
       "2  19700105DCUNW    Handgun\n",
       "3  19700206OHJOC    Handgun\n",
       "4  19700323CADAL    Handgun"
      ]
     },
     "execution_count": 5,
     "metadata": {},
     "output_type": "execute_result"
    }
   ],
   "source": [
    "def organize_null(string):\n",
    "    if string == \"Handgun\":\n",
    "        return \"Handgun\"\n",
    "    elif string == \"Rifle\":\n",
    "        return \"Rifle\"\n",
    "    elif string == \"Shotgun\":\n",
    "        return \"Shotgun\"\n",
    "    elif string == \"Multiple Handguns\" or \"Mulitiple Handguns\":\n",
    "        return \"Multiple Handguns\"\n",
    "    elif string == \"Multiple Rifles\":\n",
    "        return \"Multiple Rifles\"\n",
    "    else:\n",
    "        return None\n",
    "\n",
    "weapons_df['weapontype'].apply(organize_null)\n",
    "weapons_df.head()"
   ]
  },
  {
   "cell_type": "code",
   "execution_count": 6,
   "id": "593e613b-1194-4f30-871a-826cf69e5f56",
   "metadata": {
    "tags": []
   },
   "outputs": [],
   "source": [
    "weapons_df['weapontype'] = weapons_df['weapontype'].str.replace(\"Multiple Handguns\", \"Handgun\")\n",
    "weapons_df['weapontype'] = weapons_df['weapontype'].str.replace(\"Mulitiple Handguns\", \"Handgun\")\n",
    "weapons_df['weapontype'] = weapons_df['weapontype'].str.replace(\"Multiple Rifles\", \"Rifle\")\n",
    "weapons_df['weapontype'] = weapons_df['weapontype'].str.replace(\"Rifle \", \"Rifle\")"
   ]
  },
  {
   "cell_type": "code",
   "execution_count": 7,
   "id": "2f928dca-efda-43c6-bb85-8ebb591eb75e",
   "metadata": {
    "tags": []
   },
   "outputs": [],
   "source": [
    "weapons_df.to_csv(\"clean_weapon.csv\", index=False, header=True)"
   ]
  },
  {
   "cell_type": "code",
   "execution_count": 8,
   "id": "c7e5a861-7f32-438f-8fd8-646cd6667826",
   "metadata": {
    "tags": []
   },
   "outputs": [
    {
     "data": {
      "text/html": [
       "<div>\n",
       "<style scoped>\n",
       "    .dataframe tbody tr th:only-of-type {\n",
       "        vertical-align: middle;\n",
       "    }\n",
       "\n",
       "    .dataframe tbody tr th {\n",
       "        vertical-align: top;\n",
       "    }\n",
       "\n",
       "    .dataframe thead th {\n",
       "        text-align: right;\n",
       "    }\n",
       "</style>\n",
       "<table border=\"1\" class=\"dataframe\">\n",
       "  <thead>\n",
       "    <tr style=\"text-align: right;\">\n",
       "      <th></th>\n",
       "      <th>weapontype</th>\n",
       "      <th>Incident_ID</th>\n",
       "    </tr>\n",
       "  </thead>\n",
       "  <tbody>\n",
       "    <tr>\n",
       "      <th>0</th>\n",
       "      <td>Handgun</td>\n",
       "      <td>1439</td>\n",
       "    </tr>\n",
       "    <tr>\n",
       "      <th>2</th>\n",
       "      <td>No Data</td>\n",
       "      <td>230</td>\n",
       "    </tr>\n",
       "    <tr>\n",
       "      <th>4</th>\n",
       "      <td>Rifle</td>\n",
       "      <td>114</td>\n",
       "    </tr>\n",
       "    <tr>\n",
       "      <th>3</th>\n",
       "      <td>Other</td>\n",
       "      <td>95</td>\n",
       "    </tr>\n",
       "    <tr>\n",
       "      <th>5</th>\n",
       "      <td>Shotgun</td>\n",
       "      <td>67</td>\n",
       "    </tr>\n",
       "    <tr>\n",
       "      <th>1</th>\n",
       "      <td>Multiple Unknown</td>\n",
       "      <td>26</td>\n",
       "    </tr>\n",
       "    <tr>\n",
       "      <th>6</th>\n",
       "      <td>Unknown</td>\n",
       "      <td>24</td>\n",
       "    </tr>\n",
       "  </tbody>\n",
       "</table>\n",
       "</div>"
      ],
      "text/plain": [
       "         weapontype  Incident_ID\n",
       "0           Handgun         1439\n",
       "2           No Data          230\n",
       "4             Rifle          114\n",
       "3             Other           95\n",
       "5           Shotgun           67\n",
       "1  Multiple Unknown           26\n",
       "6           Unknown           24"
      ]
     },
     "execution_count": 8,
     "metadata": {},
     "output_type": "execute_result"
    }
   ],
   "source": [
    "#Group by victim age\n",
    "weapons_df.groupby('weapontype')['Incident_ID'].count().reset_index().sort_values('Incident_ID', ascending=False)"
   ]
  },
  {
   "cell_type": "code",
   "execution_count": null,
   "id": "c688cad7",
   "metadata": {},
   "outputs": [],
   "source": []
  },
  {
   "cell_type": "code",
   "execution_count": null,
   "id": "2342e7a4",
   "metadata": {},
   "outputs": [],
   "source": []
  }
 ],
 "metadata": {
  "kernelspec": {
   "display_name": "Python 3 (ipykernel)",
   "language": "python",
   "name": "python3"
  },
  "language_info": {
   "codemirror_mode": {
    "name": "ipython",
    "version": 3
   },
   "file_extension": ".py",
   "mimetype": "text/x-python",
   "name": "python",
   "nbconvert_exporter": "python",
   "pygments_lexer": "ipython3",
   "version": "3.10.11"
  }
 },
 "nbformat": 4,
 "nbformat_minor": 5
}
