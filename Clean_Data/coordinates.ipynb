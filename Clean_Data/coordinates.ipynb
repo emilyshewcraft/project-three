{
 "cells": [
  {
   "cell_type": "code",
   "execution_count": 1,
   "id": "1d1da8ea-de2a-4006-a672-96a5ebdd4c64",
   "metadata": {
    "tags": []
   },
   "outputs": [],
   "source": [
    "import pandas as pd"
   ]
  },
  {
   "cell_type": "code",
   "execution_count": 2,
   "id": "566b05a5-7250-411b-91eb-faa6644e4bdf",
   "metadata": {
    "tags": []
   },
   "outputs": [
    {
     "data": {
      "text/html": [
       "<div>\n",
       "<style scoped>\n",
       "    .dataframe tbody tr th:only-of-type {\n",
       "        vertical-align: middle;\n",
       "    }\n",
       "\n",
       "    .dataframe tbody tr th {\n",
       "        vertical-align: top;\n",
       "    }\n",
       "\n",
       "    .dataframe thead th {\n",
       "        text-align: right;\n",
       "    }\n",
       "</style>\n",
       "<table border=\"1\" class=\"dataframe\">\n",
       "  <thead>\n",
       "    <tr style=\"text-align: right;\">\n",
       "      <th></th>\n",
       "      <th>Incident_ID</th>\n",
       "      <th>Media_Attention</th>\n",
       "      <th>Date</th>\n",
       "      <th>School</th>\n",
       "      <th>City</th>\n",
       "      <th>State</th>\n",
       "      <th>City_Lat</th>\n",
       "      <th>City_Lon</th>\n",
       "      <th>School_Level</th>\n",
       "      <th>Targets</th>\n",
       "    </tr>\n",
       "  </thead>\n",
       "  <tbody>\n",
       "    <tr>\n",
       "      <th>0</th>\n",
       "      <td>20181003AKDEA</td>\n",
       "      <td>Local</td>\n",
       "      <td>2018-10-03</td>\n",
       "      <td>Denali Montessori Elementary School</td>\n",
       "      <td>Anchorage</td>\n",
       "      <td>AK</td>\n",
       "      <td>61.218056</td>\n",
       "      <td>-149.900284</td>\n",
       "      <td>Elementary</td>\n",
       "      <td>Victims Targeted</td>\n",
       "    </tr>\n",
       "    <tr>\n",
       "      <th>1</th>\n",
       "      <td>20050901AKDIA</td>\n",
       "      <td>NaN</td>\n",
       "      <td>2005-09-01</td>\n",
       "      <td>Dimond High School</td>\n",
       "      <td>Anchorage</td>\n",
       "      <td>AK</td>\n",
       "      <td>61.218056</td>\n",
       "      <td>-149.900284</td>\n",
       "      <td>High</td>\n",
       "      <td>Victims Targeted</td>\n",
       "    </tr>\n",
       "    <tr>\n",
       "      <th>2</th>\n",
       "      <td>20000110AKBAA</td>\n",
       "      <td>NaN</td>\n",
       "      <td>2000-01-10</td>\n",
       "      <td>Bartlett High School</td>\n",
       "      <td>Anchorage</td>\n",
       "      <td>AK</td>\n",
       "      <td>61.218056</td>\n",
       "      <td>-149.900284</td>\n",
       "      <td>High</td>\n",
       "      <td>Victims Targeted</td>\n",
       "    </tr>\n",
       "    <tr>\n",
       "      <th>3</th>\n",
       "      <td>19970219AKBEB</td>\n",
       "      <td>NaN</td>\n",
       "      <td>1997-02-19</td>\n",
       "      <td>Bethel Regional High School</td>\n",
       "      <td>Bethel</td>\n",
       "      <td>AK</td>\n",
       "      <td>60.804878</td>\n",
       "      <td>-161.782150</td>\n",
       "      <td>High</td>\n",
       "      <td>Random Shooting</td>\n",
       "    </tr>\n",
       "    <tr>\n",
       "      <th>4</th>\n",
       "      <td>20170110ALALA</td>\n",
       "      <td>NaN</td>\n",
       "      <td>2017-01-10</td>\n",
       "      <td>Alexander City Middle School</td>\n",
       "      <td>Alexander City</td>\n",
       "      <td>AL</td>\n",
       "      <td>32.944012</td>\n",
       "      <td>-85.953853</td>\n",
       "      <td>Middle</td>\n",
       "      <td>Neither</td>\n",
       "    </tr>\n",
       "  </tbody>\n",
       "</table>\n",
       "</div>"
      ],
      "text/plain": [
       "     Incident_ID Media_Attention        Date  \\\n",
       "0  20181003AKDEA           Local  2018-10-03   \n",
       "1  20050901AKDIA             NaN  2005-09-01   \n",
       "2  20000110AKBAA             NaN  2000-01-10   \n",
       "3  19970219AKBEB             NaN  1997-02-19   \n",
       "4  20170110ALALA             NaN  2017-01-10   \n",
       "\n",
       "                                School            City State   City_Lat  \\\n",
       "0  Denali Montessori Elementary School       Anchorage    AK  61.218056   \n",
       "1                   Dimond High School       Anchorage    AK  61.218056   \n",
       "2                 Bartlett High School       Anchorage    AK  61.218056   \n",
       "3          Bethel Regional High School          Bethel    AK  60.804878   \n",
       "4         Alexander City Middle School  Alexander City    AL  32.944012   \n",
       "\n",
       "     City_Lon School_Level           Targets  \n",
       "0 -149.900284   Elementary  Victims Targeted  \n",
       "1 -149.900284         High  Victims Targeted  \n",
       "2 -149.900284         High  Victims Targeted  \n",
       "3 -161.782150         High   Random Shooting  \n",
       "4  -85.953853       Middle           Neither  "
      ]
     },
     "execution_count": 2,
     "metadata": {},
     "output_type": "execute_result"
    }
   ],
   "source": [
    "incidents_df = pd.read_csv(\"clean_incident.csv\", sep=\",\")\n",
    "incidents_df.head()"
   ]
  },
  {
   "cell_type": "code",
   "execution_count": 3,
   "id": "953a4c04-f4c5-4dd3-9d73-529245db005e",
   "metadata": {
    "tags": []
   },
   "outputs": [
    {
     "data": {
      "text/html": [
       "<div>\n",
       "<style scoped>\n",
       "    .dataframe tbody tr th:only-of-type {\n",
       "        vertical-align: middle;\n",
       "    }\n",
       "\n",
       "    .dataframe tbody tr th {\n",
       "        vertical-align: top;\n",
       "    }\n",
       "\n",
       "    .dataframe thead th {\n",
       "        text-align: right;\n",
       "    }\n",
       "</style>\n",
       "<table border=\"1\" class=\"dataframe\">\n",
       "  <thead>\n",
       "    <tr style=\"text-align: right;\">\n",
       "      <th></th>\n",
       "      <th>Incident_ID</th>\n",
       "      <th>schoolaffiliation</th>\n",
       "      <th>age_cat</th>\n",
       "      <th>shooterdied</th>\n",
       "    </tr>\n",
       "  </thead>\n",
       "  <tbody>\n",
       "    <tr>\n",
       "      <th>0</th>\n",
       "      <td>19700105DCHIW</td>\n",
       "      <td>Student</td>\n",
       "      <td>Teen</td>\n",
       "      <td>No</td>\n",
       "    </tr>\n",
       "    <tr>\n",
       "      <th>1</th>\n",
       "      <td>19700105DCSOW</td>\n",
       "      <td>Student</td>\n",
       "      <td>NaN</td>\n",
       "      <td>No</td>\n",
       "    </tr>\n",
       "    <tr>\n",
       "      <th>2</th>\n",
       "      <td>19700105DCUNW</td>\n",
       "      <td>Student</td>\n",
       "      <td>NaN</td>\n",
       "      <td>No</td>\n",
       "    </tr>\n",
       "    <tr>\n",
       "      <th>3</th>\n",
       "      <td>19700206OHJOC</td>\n",
       "      <td>Student</td>\n",
       "      <td>Teen</td>\n",
       "      <td>No</td>\n",
       "    </tr>\n",
       "    <tr>\n",
       "      <th>4</th>\n",
       "      <td>19700323CADAL</td>\n",
       "      <td>Student</td>\n",
       "      <td>Teen</td>\n",
       "      <td>No</td>\n",
       "    </tr>\n",
       "  </tbody>\n",
       "</table>\n",
       "</div>"
      ],
      "text/plain": [
       "     Incident_ID schoolaffiliation age_cat shooterdied\n",
       "0  19700105DCHIW           Student    Teen          No\n",
       "1  19700105DCSOW           Student     NaN          No\n",
       "2  19700105DCUNW           Student     NaN          No\n",
       "3  19700206OHJOC           Student    Teen          No\n",
       "4  19700323CADAL           Student    Teen          No"
      ]
     },
     "execution_count": 3,
     "metadata": {},
     "output_type": "execute_result"
    }
   ],
   "source": [
    "shooter_df = pd.read_csv(\"clean_shooter.csv\", sep=\",\")\n",
    "shooter_df.head()"
   ]
  },
  {
   "cell_type": "code",
   "execution_count": 4,
   "id": "c917224c-178f-415f-ade8-225d82bfda63",
   "metadata": {
    "tags": []
   },
   "outputs": [
    {
     "data": {
      "text/html": [
       "<div>\n",
       "<style scoped>\n",
       "    .dataframe tbody tr th:only-of-type {\n",
       "        vertical-align: middle;\n",
       "    }\n",
       "\n",
       "    .dataframe tbody tr th {\n",
       "        vertical-align: top;\n",
       "    }\n",
       "\n",
       "    .dataframe thead th {\n",
       "        text-align: right;\n",
       "    }\n",
       "</style>\n",
       "<table border=\"1\" class=\"dataframe\">\n",
       "  <thead>\n",
       "    <tr style=\"text-align: right;\">\n",
       "      <th></th>\n",
       "      <th>Incident_ID</th>\n",
       "      <th>Injury</th>\n",
       "      <th>Age</th>\n",
       "    </tr>\n",
       "  </thead>\n",
       "  <tbody>\n",
       "    <tr>\n",
       "      <th>0</th>\n",
       "      <td>19700105DCHIW</td>\n",
       "      <td>Fatal</td>\n",
       "      <td>Teen</td>\n",
       "    </tr>\n",
       "    <tr>\n",
       "      <th>1</th>\n",
       "      <td>19700105DCSOW</td>\n",
       "      <td>Wounded</td>\n",
       "      <td>Teen</td>\n",
       "    </tr>\n",
       "    <tr>\n",
       "      <th>2</th>\n",
       "      <td>19700105DCUNW</td>\n",
       "      <td>NaN</td>\n",
       "      <td>Teen</td>\n",
       "    </tr>\n",
       "    <tr>\n",
       "      <th>3</th>\n",
       "      <td>19700206OHJOC</td>\n",
       "      <td>Wounded</td>\n",
       "      <td>Teen</td>\n",
       "    </tr>\n",
       "    <tr>\n",
       "      <th>4</th>\n",
       "      <td>19700323CADAL</td>\n",
       "      <td>Wounded</td>\n",
       "      <td>Adult</td>\n",
       "    </tr>\n",
       "  </tbody>\n",
       "</table>\n",
       "</div>"
      ],
      "text/plain": [
       "     Incident_ID   Injury    Age\n",
       "0  19700105DCHIW    Fatal   Teen\n",
       "1  19700105DCSOW  Wounded   Teen\n",
       "2  19700105DCUNW      NaN   Teen\n",
       "3  19700206OHJOC  Wounded   Teen\n",
       "4  19700323CADAL  Wounded  Adult"
      ]
     },
     "execution_count": 4,
     "metadata": {},
     "output_type": "execute_result"
    }
   ],
   "source": [
    "victim_df = pd.read_csv(\"clean_victim.csv\", sep=\",\")\n",
    "victim_df.head()"
   ]
  },
  {
   "cell_type": "code",
   "execution_count": 5,
   "id": "5002209e-93f2-4b40-91d9-a3013bfc9d62",
   "metadata": {
    "tags": []
   },
   "outputs": [
    {
     "data": {
      "text/html": [
       "<div>\n",
       "<style scoped>\n",
       "    .dataframe tbody tr th:only-of-type {\n",
       "        vertical-align: middle;\n",
       "    }\n",
       "\n",
       "    .dataframe tbody tr th {\n",
       "        vertical-align: top;\n",
       "    }\n",
       "\n",
       "    .dataframe thead th {\n",
       "        text-align: right;\n",
       "    }\n",
       "</style>\n",
       "<table border=\"1\" class=\"dataframe\">\n",
       "  <thead>\n",
       "    <tr style=\"text-align: right;\">\n",
       "      <th></th>\n",
       "      <th>Incident_ID</th>\n",
       "      <th>weapontype</th>\n",
       "    </tr>\n",
       "  </thead>\n",
       "  <tbody>\n",
       "    <tr>\n",
       "      <th>0</th>\n",
       "      <td>19700105DCHIW</td>\n",
       "      <td>Handgun</td>\n",
       "    </tr>\n",
       "    <tr>\n",
       "      <th>1</th>\n",
       "      <td>19700105DCSOW</td>\n",
       "      <td>Handgun</td>\n",
       "    </tr>\n",
       "    <tr>\n",
       "      <th>2</th>\n",
       "      <td>19700105DCUNW</td>\n",
       "      <td>Handgun</td>\n",
       "    </tr>\n",
       "    <tr>\n",
       "      <th>3</th>\n",
       "      <td>19700206OHJOC</td>\n",
       "      <td>Handgun</td>\n",
       "    </tr>\n",
       "    <tr>\n",
       "      <th>4</th>\n",
       "      <td>19700323CADAL</td>\n",
       "      <td>Handgun</td>\n",
       "    </tr>\n",
       "  </tbody>\n",
       "</table>\n",
       "</div>"
      ],
      "text/plain": [
       "     Incident_ID weapontype\n",
       "0  19700105DCHIW    Handgun\n",
       "1  19700105DCSOW    Handgun\n",
       "2  19700105DCUNW    Handgun\n",
       "3  19700206OHJOC    Handgun\n",
       "4  19700323CADAL    Handgun"
      ]
     },
     "execution_count": 5,
     "metadata": {},
     "output_type": "execute_result"
    }
   ],
   "source": [
    "weapon_df = pd.read_csv(\"clean_weapon.csv\", sep=\",\")\n",
    "weapon_df.head()"
   ]
  },
  {
   "cell_type": "code",
   "execution_count": 11,
   "id": "a62c48d2-7f1d-442f-8deb-fe0e50e5342f",
   "metadata": {
    "tags": []
   },
   "outputs": [],
   "source": [
    "def coords_merge(df1, df2=incidents_df):\n",
    "    new_df = pd.merge(df1, df2[['Incident_ID', 'City_Lat', 'City_Lon']], on='Incident_ID', how='left')\n",
    "    return new_df"
   ]
  },
  {
   "cell_type": "code",
   "execution_count": 12,
   "id": "153259fd-a0bd-4a71-8646-09aa6bf1d4a2",
   "metadata": {
    "tags": []
   },
   "outputs": [],
   "source": [
    "clean_shooter = coords_merge(shooter_df)\n",
    "clean_shooter.to_csv(\"clean_shooter.csv\", index=False, header=True)"
   ]
  },
  {
   "cell_type": "code",
   "execution_count": 13,
   "id": "17e87777-3832-4b1f-9cc0-90357c2ad016",
   "metadata": {
    "tags": []
   },
   "outputs": [],
   "source": [
    "clean_victim = coords_merge(victim_df)\n",
    "clean_victim.to_csv(\"clean_victim.csv\", index=False, header=True)"
   ]
  },
  {
   "cell_type": "code",
   "execution_count": 14,
   "id": "116a291b-354d-4809-ba8e-b7820ee5e261",
   "metadata": {
    "tags": []
   },
   "outputs": [],
   "source": [
    "clean_weapon = coords_merge(weapon_df)\n",
    "clean_weapon.to_csv(\"clean_weapon.csv\", index=False, header=True)"
   ]
  },
  {
   "cell_type": "code",
   "execution_count": null,
   "id": "76a9c53a-984d-4a22-9d0d-31574dcfaa04",
   "metadata": {},
   "outputs": [],
   "source": []
  }
 ],
 "metadata": {
  "kernelspec": {
   "display_name": "Python 3 (ipykernel)",
   "language": "python",
   "name": "python3"
  },
  "language_info": {
   "codemirror_mode": {
    "name": "ipython",
    "version": 3
   },
   "file_extension": ".py",
   "mimetype": "text/x-python",
   "name": "python",
   "nbconvert_exporter": "python",
   "pygments_lexer": "ipython3",
   "version": "3.10.12"
  }
 },
 "nbformat": 4,
 "nbformat_minor": 5
}
